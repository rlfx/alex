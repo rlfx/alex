import numpy as np
import scipy.misc as smp

all_ts = [1.66421000000000, 1.66344000000000, 1.66293000000000, 1.66277000000000, 1.66286000000000, 1.66318000000000, 1.66305000000000, 1.66310000000000, 1.66399000000000, 1.66427000000000, 1.66383000000000, 1.66350000000000, 1.66387000000000, 1.66430000000000, 1.66498000000000, 1.66510000000000, 1.66469000000000, 1.66467000000000, 1.66455000000000, 1.66473000000000, 1.66441000000000, 1.66434000000000, 1.66363000000000, 1.66377000000000, 1.66436000000000, 1.66419000000000, 1.66419000000000, 1.66396000000000, 1.66438000000000, 1.66418000000000, 1.66432000000000, 1.66422000000000, 1.66392000000000, 1.66342000000000, 1.66358000000000, 1.66424000000000, 1.66452000000000, 1.66423000000000, 1.66421000000000, 1.66401000000000, 1.66392000000000, 1.66400000000000, 1.66404000000000, 1.66410000000000, 1.66394000000000, 1.66385000000000, 1.66377000000000, 1.66337000000000, 1.66339000000000, 1.66340000000000, 1.66343000000000, 1.66340000000000, 1.66311000000000, 1.66335000000000, 1.66334000000000, 1.66340000000000, 1.66342000000000, 1.66334000000000, 1.66311000000000, 1.66266000000000, 1.66289000000000, 1.66289000000000, 1.66280000000000, 1.66283000000000, 1.66309000000000, 1.66311000000000, 1.66313000000000, 1.66316000000000, 1.66306000000000, 1.66303000000000]
# all_ts = [1, 2, 3, 4, 5, 6, 7, 8, 9, 10]
n = len(all_ts)
M = [[0 for i in range(n)] for j in range(n)]
extracted_M = [[[[0 for i in range(n)] for j in range(n)] for k in range(4)] for k in range(4)]

def which_quartile(value, quartile):
  if value >= quartile[2]:
    return 3
  elif value >= quartile[1]:
    return 2
  elif value >= quartile[0]:
    return 1
  return 0

def make_quartile(data_list):
  temp_quartile = []
  sorted_data = data_list.copy()
  sorted_data.sort()
  data_length = len(sorted_data)
  temp_quartile = []
  if data_length % 4 == 0:
    for i in range(1, 4):
      temp_quartile.append( (sorted_data[data_length//4*i - 1] + sorted_data[data_length//4*i])/2 )
  else:
    for i in range(1, 4):
      temp_quartile.append( sorted_data[data_length//4*i] )
  
  return temp_quartile
  
def make_W(data_list):
  current_quartile = make_quartile(data_list)
  current_W = [[0 for i in range(4)] for j in range(4)]
  
  print('quartile:', current_quartile)
  for i in range(len(data_list) - 1):
    current_W[which_quartile(data_list[i], current_quartile)][which_quartile(data_list[i+1], current_quartile)] += 1
    
  print(np.matrix(current_W))
  
  for i in range(len(current_W)):
    if sum(current_W[i]) != 0:
      current_W[i] = [each_P / sum(current_W[i]) for each_P in current_W[i]]
  # current_W = [[each_P / sum(each_row) for each_P in each_row] for each_row in current_W]  #會有除零誤
  
  return current_W
  
for i in range(len(all_ts)):
  for j in range(i, len(all_ts)):
    if j-i >= 5:
      print("W_{},{}:".format(i, j))
      print(all_ts[i:j])
      M[i][j] = M[j][i] = make_W(all_ts[i:j])
      print(np.matrix(M[i][j]), end='\n\n')
    else:
      M[i][j] = M[j][i] = [[0 for i in range(4)] for j in range(4)]

# 把 M 拆開得到 4*4 個矩陣，放在 extracted_M 
for i in range(len(M)):
  for j in range(len(M[i])):
    for k in range(len(M[i][j])):
      for l in range(len(M[i][j][k])):
        extracted_M[k][l][i][j] = M[i][j][k][l]

for i in range(4):
  for j in range(4):
    print('{} -> {}'.format(i, j))
    print(np.matrix(extracted_M[i][j]), end='\n\n')
    
data = np.zeros( (310, 310, 3), dtype=np.uint8 )
for a in range(len(extracted_M)):
    for b in range(len(extracted_M)):
        for i in range(70):
            for j in range(70):
                data[80*a+i][80*b+j] = [255 * extracted_M[a][b][i][j], 0, 0]
img = smp.toimage(data)
img.show()
